{
 "cells": [
  {
   "cell_type": "code",
   "execution_count": 1,
   "id": "89ce4bd4-ec92-48cd-bf06-a58fbd124e98",
   "metadata": {},
   "outputs": [],
   "source": [
    "import numpy as np\n",
    "import pandas as pd\n",
    "import matplotlib.pyplot as plt\n",
    "import seaborn as sns\n"
   ]
  },
  {
   "cell_type": "code",
   "execution_count": 2,
   "id": "e9a90a93-2e75-44ad-94d0-22939e4679b6",
   "metadata": {},
   "outputs": [
    {
     "data": {
      "text/html": [
       "<div>\n",
       "<style scoped>\n",
       "    .dataframe tbody tr th:only-of-type {\n",
       "        vertical-align: middle;\n",
       "    }\n",
       "\n",
       "    .dataframe tbody tr th {\n",
       "        vertical-align: top;\n",
       "    }\n",
       "\n",
       "    .dataframe thead th {\n",
       "        text-align: right;\n",
       "    }\n",
       "</style>\n",
       "<table border=\"1\" class=\"dataframe\">\n",
       "  <thead>\n",
       "    <tr style=\"text-align: right;\">\n",
       "      <th></th>\n",
       "      <th>Transaction_date</th>\n",
       "      <th>Transaction_ID</th>\n",
       "      <th>Gender</th>\n",
       "      <th>Age</th>\n",
       "      <th>Marital_status</th>\n",
       "      <th>State_names</th>\n",
       "      <th>Segment</th>\n",
       "      <th>Employees_status</th>\n",
       "      <th>Payment_method</th>\n",
       "      <th>Referal</th>\n",
       "      <th>Amount_spent</th>\n",
       "    </tr>\n",
       "  </thead>\n",
       "  <tbody>\n",
       "    <tr>\n",
       "      <th>0</th>\n",
       "      <td>1/1/2019</td>\n",
       "      <td>151200</td>\n",
       "      <td>Female</td>\n",
       "      <td>19.0</td>\n",
       "      <td>Single</td>\n",
       "      <td>Kansas</td>\n",
       "      <td>Basic</td>\n",
       "      <td>Unemployment</td>\n",
       "      <td>Other</td>\n",
       "      <td>1.0</td>\n",
       "      <td>2051.36</td>\n",
       "    </tr>\n",
       "    <tr>\n",
       "      <th>1</th>\n",
       "      <td>1/1/2019</td>\n",
       "      <td>151201</td>\n",
       "      <td>Male</td>\n",
       "      <td>49.0</td>\n",
       "      <td>Single</td>\n",
       "      <td>Illinois</td>\n",
       "      <td>Basic</td>\n",
       "      <td>self-employed</td>\n",
       "      <td>Card</td>\n",
       "      <td>0.0</td>\n",
       "      <td>544.04</td>\n",
       "    </tr>\n",
       "    <tr>\n",
       "      <th>2</th>\n",
       "      <td>1/1/2019</td>\n",
       "      <td>151202</td>\n",
       "      <td>Male</td>\n",
       "      <td>63.0</td>\n",
       "      <td>Married</td>\n",
       "      <td>New Mexico</td>\n",
       "      <td>Basic</td>\n",
       "      <td>workers</td>\n",
       "      <td>PayPal</td>\n",
       "      <td>1.0</td>\n",
       "      <td>1572.60</td>\n",
       "    </tr>\n",
       "    <tr>\n",
       "      <th>3</th>\n",
       "      <td>1/1/2019</td>\n",
       "      <td>151203</td>\n",
       "      <td>NaN</td>\n",
       "      <td>18.0</td>\n",
       "      <td>Single</td>\n",
       "      <td>Virginia</td>\n",
       "      <td>Platinum</td>\n",
       "      <td>workers</td>\n",
       "      <td>Card</td>\n",
       "      <td>1.0</td>\n",
       "      <td>1199.79</td>\n",
       "    </tr>\n",
       "    <tr>\n",
       "      <th>4</th>\n",
       "      <td>1/1/2019</td>\n",
       "      <td>151204</td>\n",
       "      <td>Male</td>\n",
       "      <td>27.0</td>\n",
       "      <td>Single</td>\n",
       "      <td>Connecticut</td>\n",
       "      <td>Basic</td>\n",
       "      <td>self-employed</td>\n",
       "      <td>Card</td>\n",
       "      <td>0.0</td>\n",
       "      <td>NaN</td>\n",
       "    </tr>\n",
       "    <tr>\n",
       "      <th>...</th>\n",
       "      <td>...</td>\n",
       "      <td>...</td>\n",
       "      <td>...</td>\n",
       "      <td>...</td>\n",
       "      <td>...</td>\n",
       "      <td>...</td>\n",
       "      <td>...</td>\n",
       "      <td>...</td>\n",
       "      <td>...</td>\n",
       "      <td>...</td>\n",
       "      <td>...</td>\n",
       "    </tr>\n",
       "    <tr>\n",
       "      <th>2507</th>\n",
       "      <td>5/1/2021</td>\n",
       "      <td>153695</td>\n",
       "      <td>Female</td>\n",
       "      <td>57.0</td>\n",
       "      <td>Single</td>\n",
       "      <td>South Carolina</td>\n",
       "      <td>Platinum</td>\n",
       "      <td>self-employed</td>\n",
       "      <td>Card</td>\n",
       "      <td>0.0</td>\n",
       "      <td>150.10</td>\n",
       "    </tr>\n",
       "    <tr>\n",
       "      <th>2508</th>\n",
       "      <td>5/1/2021</td>\n",
       "      <td>153696</td>\n",
       "      <td>Female</td>\n",
       "      <td>36.0</td>\n",
       "      <td>Married</td>\n",
       "      <td>Hawaii</td>\n",
       "      <td>Silver</td>\n",
       "      <td>self-employed</td>\n",
       "      <td>PayPal</td>\n",
       "      <td>1.0</td>\n",
       "      <td>708.88</td>\n",
       "    </tr>\n",
       "    <tr>\n",
       "      <th>2509</th>\n",
       "      <td>5/1/2021</td>\n",
       "      <td>153697</td>\n",
       "      <td>Male</td>\n",
       "      <td>22.0</td>\n",
       "      <td>Single</td>\n",
       "      <td>South Carolina</td>\n",
       "      <td>Basic</td>\n",
       "      <td>workers</td>\n",
       "      <td>PayPal</td>\n",
       "      <td>1.0</td>\n",
       "      <td>2030.07</td>\n",
       "    </tr>\n",
       "    <tr>\n",
       "      <th>2510</th>\n",
       "      <td>5/1/2021</td>\n",
       "      <td>153698</td>\n",
       "      <td>NaN</td>\n",
       "      <td>44.0</td>\n",
       "      <td>Single</td>\n",
       "      <td>New York</td>\n",
       "      <td>Basic</td>\n",
       "      <td>Employees</td>\n",
       "      <td>PayPal</td>\n",
       "      <td>0.0</td>\n",
       "      <td>1909.77</td>\n",
       "    </tr>\n",
       "    <tr>\n",
       "      <th>2511</th>\n",
       "      <td>5/1/2021</td>\n",
       "      <td>153699</td>\n",
       "      <td>Male</td>\n",
       "      <td>48.0</td>\n",
       "      <td>Single</td>\n",
       "      <td>California</td>\n",
       "      <td>Silver</td>\n",
       "      <td>workers</td>\n",
       "      <td>PayPal</td>\n",
       "      <td>1.0</td>\n",
       "      <td>1073.15</td>\n",
       "    </tr>\n",
       "  </tbody>\n",
       "</table>\n",
       "<p>2512 rows × 11 columns</p>\n",
       "</div>"
      ],
      "text/plain": [
       "     Transaction_date  Transaction_ID  Gender   Age Marital_status  \\\n",
       "0            1/1/2019          151200  Female  19.0         Single   \n",
       "1            1/1/2019          151201    Male  49.0         Single   \n",
       "2            1/1/2019          151202    Male  63.0        Married   \n",
       "3            1/1/2019          151203     NaN  18.0         Single   \n",
       "4            1/1/2019          151204    Male  27.0         Single   \n",
       "...               ...             ...     ...   ...            ...   \n",
       "2507         5/1/2021          153695  Female  57.0         Single   \n",
       "2508         5/1/2021          153696  Female  36.0        Married   \n",
       "2509         5/1/2021          153697    Male  22.0         Single   \n",
       "2510         5/1/2021          153698     NaN  44.0         Single   \n",
       "2511         5/1/2021          153699    Male  48.0         Single   \n",
       "\n",
       "         State_names   Segment Employees_status Payment_method  Referal  \\\n",
       "0             Kansas     Basic     Unemployment          Other      1.0   \n",
       "1           Illinois     Basic    self-employed           Card      0.0   \n",
       "2         New Mexico     Basic          workers         PayPal      1.0   \n",
       "3           Virginia  Platinum          workers           Card      1.0   \n",
       "4        Connecticut     Basic    self-employed           Card      0.0   \n",
       "...              ...       ...              ...            ...      ...   \n",
       "2507  South Carolina  Platinum    self-employed           Card      0.0   \n",
       "2508          Hawaii    Silver    self-employed         PayPal      1.0   \n",
       "2509  South Carolina     Basic          workers         PayPal      1.0   \n",
       "2510        New York     Basic        Employees         PayPal      0.0   \n",
       "2511      California    Silver          workers         PayPal      1.0   \n",
       "\n",
       "      Amount_spent  \n",
       "0          2051.36  \n",
       "1           544.04  \n",
       "2          1572.60  \n",
       "3          1199.79  \n",
       "4              NaN  \n",
       "...            ...  \n",
       "2507        150.10  \n",
       "2508        708.88  \n",
       "2509       2030.07  \n",
       "2510       1909.77  \n",
       "2511       1073.15  \n",
       "\n",
       "[2512 rows x 11 columns]"
      ]
     },
     "execution_count": 2,
     "metadata": {},
     "output_type": "execute_result"
    }
   ],
   "source": [
    "df= pd.read_csv('online_store_customer_data.csv')\n",
    "df"
   ]
  },
  {
   "cell_type": "code",
   "execution_count": 3,
   "id": "1ee259c4-2e73-456f-b074-2a555f8f87f2",
   "metadata": {},
   "outputs": [
    {
     "data": {
      "text/plain": [
       "Transaction_date      0\n",
       "Transaction_ID        0\n",
       "Gender               28\n",
       "Age                  42\n",
       "Marital_status        0\n",
       "State_names           0\n",
       "Segment               0\n",
       "Employees_status     26\n",
       "Payment_method        0\n",
       "Referal             155\n",
       "Amount_spent        242\n",
       "dtype: int64"
      ]
     },
     "execution_count": 3,
     "metadata": {},
     "output_type": "execute_result"
    }
   ],
   "source": [
    "df.isnull().sum()"
   ]
  },
  {
   "cell_type": "code",
   "execution_count": 4,
   "id": "018477ae-8f29-4491-a71b-d250f13e4d9e",
   "metadata": {},
   "outputs": [
    {
     "data": {
      "text/plain": [
       "Gender\n",
       "Female    1356\n",
       "Male      1128\n",
       "Name: count, dtype: int64"
      ]
     },
     "execution_count": 4,
     "metadata": {},
     "output_type": "execute_result"
    }
   ],
   "source": [
    "df['Gender'].value_counts()"
   ]
  },
  {
   "cell_type": "code",
   "execution_count": 5,
   "id": "04edca30-924d-4349-83e8-5d8b428cf406",
   "metadata": {},
   "outputs": [
    {
     "name": "stderr",
     "output_type": "stream",
     "text": [
      "C:\\Users\\PUSHKAR\\AppData\\Local\\Temp\\ipykernel_28392\\3652258697.py:1: FutureWarning: A value is trying to be set on a copy of a DataFrame or Series through chained assignment using an inplace method.\n",
      "The behavior will change in pandas 3.0. This inplace method will never work because the intermediate object on which we are setting values always behaves as a copy.\n",
      "\n",
      "For example, when doing 'df[col].method(value, inplace=True)', try using 'df.method({col: value}, inplace=True)' or df[col] = df[col].method(value) instead, to perform the operation inplace on the original object.\n",
      "\n",
      "\n",
      "  df['Gender'].replace(np.nan,'Female',inplace=True)\n"
     ]
    }
   ],
   "source": [
    "df['Gender'].replace(np.nan,'Female',inplace=True)"
   ]
  },
  {
   "cell_type": "code",
   "execution_count": 8,
   "id": "ee0568d4-528f-4ca8-9c89-36123b06b40d",
   "metadata": {},
   "outputs": [
    {
     "name": "stderr",
     "output_type": "stream",
     "text": [
      "C:\\Users\\PUSHKAR\\AppData\\Local\\Temp\\ipykernel_28392\\832010488.py:1: FutureWarning: A value is trying to be set on a copy of a DataFrame or Series through chained assignment using an inplace method.\n",
      "The behavior will change in pandas 3.0. This inplace method will never work because the intermediate object on which we are setting values always behaves as a copy.\n",
      "\n",
      "For example, when doing 'df[col].method(value, inplace=True)', try using 'df.method({col: value}, inplace=True)' or df[col] = df[col].method(value) instead, to perform the operation inplace on the original object.\n",
      "\n",
      "\n",
      "  df['Age'].replace(np.nan,df['Age'].mean(),inplace=True)\n"
     ]
    }
   ],
   "source": [
    "df['Age'].replace(np.nan,df['Age'].mean(),inplace=True)"
   ]
  },
  {
   "cell_type": "code",
   "execution_count": 9,
   "id": "56cc8633-60ab-481e-9cee-5c5381d69e20",
   "metadata": {},
   "outputs": [
    {
     "data": {
      "text/plain": [
       "Transaction_date      0\n",
       "Transaction_ID        0\n",
       "Gender                0\n",
       "Age                   0\n",
       "Marital_status        0\n",
       "State_names           0\n",
       "Segment               0\n",
       "Employees_status     26\n",
       "Payment_method        0\n",
       "Referal             155\n",
       "Amount_spent        242\n",
       "dtype: int64"
      ]
     },
     "execution_count": 9,
     "metadata": {},
     "output_type": "execute_result"
    }
   ],
   "source": [
    "df.isnull().sum()"
   ]
  },
  {
   "cell_type": "code",
   "execution_count": 10,
   "id": "73836867-1a82-4caf-a256-3a8369986f75",
   "metadata": {},
   "outputs": [
    {
     "data": {
      "text/plain": [
       "Employees_status\n",
       "Employees        946\n",
       "workers          798\n",
       "self-employed    487\n",
       "Unemployment     255\n",
       "Name: count, dtype: int64"
      ]
     },
     "execution_count": 10,
     "metadata": {},
     "output_type": "execute_result"
    }
   ],
   "source": [
    "df['Employees_status'].value_counts()"
   ]
  },
  {
   "cell_type": "code",
   "execution_count": 11,
   "id": "4865f2fe-68f2-425c-847f-510af9eab03b",
   "metadata": {},
   "outputs": [
    {
     "name": "stderr",
     "output_type": "stream",
     "text": [
      "C:\\Users\\PUSHKAR\\AppData\\Local\\Temp\\ipykernel_28392\\2408902727.py:1: FutureWarning: A value is trying to be set on a copy of a DataFrame or Series through chained assignment using an inplace method.\n",
      "The behavior will change in pandas 3.0. This inplace method will never work because the intermediate object on which we are setting values always behaves as a copy.\n",
      "\n",
      "For example, when doing 'df[col].method(value, inplace=True)', try using 'df.method({col: value}, inplace=True)' or df[col] = df[col].method(value) instead, to perform the operation inplace on the original object.\n",
      "\n",
      "\n",
      "  df['Employees_status'].replace(np.nan,'Employees',inplace=True)\n"
     ]
    }
   ],
   "source": [
    "df['Employees_status'].replace(np.nan,'Employees',inplace=True)"
   ]
  },
  {
   "cell_type": "code",
   "execution_count": 13,
   "id": "bb59944f-13f3-4c08-8f29-3293f2a16156",
   "metadata": {},
   "outputs": [
    {
     "data": {
      "text/plain": [
       "Referal\n",
       "1.0    1537\n",
       "0.0     820\n",
       "Name: count, dtype: int64"
      ]
     },
     "execution_count": 13,
     "metadata": {},
     "output_type": "execute_result"
    }
   ],
   "source": [
    "df['Referal'].value_counts()"
   ]
  },
  {
   "cell_type": "code",
   "execution_count": 14,
   "id": "54e259aa-cb1f-44ae-95f6-5b4cd026e784",
   "metadata": {},
   "outputs": [
    {
     "name": "stderr",
     "output_type": "stream",
     "text": [
      "C:\\Users\\PUSHKAR\\AppData\\Local\\Temp\\ipykernel_28392\\969506098.py:1: FutureWarning: A value is trying to be set on a copy of a DataFrame or Series through chained assignment using an inplace method.\n",
      "The behavior will change in pandas 3.0. This inplace method will never work because the intermediate object on which we are setting values always behaves as a copy.\n",
      "\n",
      "For example, when doing 'df[col].method(value, inplace=True)', try using 'df.method({col: value}, inplace=True)' or df[col] = df[col].method(value) instead, to perform the operation inplace on the original object.\n",
      "\n",
      "\n",
      "  df['Referal'].replace(np.nan,1.0,inplace=True)\n"
     ]
    }
   ],
   "source": [
    "df['Referal'].replace(np.nan,1.0,inplace=True)"
   ]
  },
  {
   "cell_type": "code",
   "execution_count": 15,
   "id": "6195d386-8540-45b9-8912-9460a062c417",
   "metadata": {},
   "outputs": [
    {
     "data": {
      "text/plain": [
       "Transaction_date      0\n",
       "Transaction_ID        0\n",
       "Gender                0\n",
       "Age                   0\n",
       "Marital_status        0\n",
       "State_names           0\n",
       "Segment               0\n",
       "Employees_status      0\n",
       "Payment_method        0\n",
       "Referal               0\n",
       "Amount_spent        242\n",
       "dtype: int64"
      ]
     },
     "execution_count": 15,
     "metadata": {},
     "output_type": "execute_result"
    }
   ],
   "source": [
    "df.isnull().sum()"
   ]
  },
  {
   "cell_type": "code",
   "execution_count": 17,
   "id": "dd414a04-c733-4270-907e-4c9e376cfdb3",
   "metadata": {},
   "outputs": [
    {
     "name": "stderr",
     "output_type": "stream",
     "text": [
      "C:\\Users\\PUSHKAR\\AppData\\Local\\Temp\\ipykernel_28392\\1790230929.py:1: FutureWarning: A value is trying to be set on a copy of a DataFrame or Series through chained assignment using an inplace method.\n",
      "The behavior will change in pandas 3.0. This inplace method will never work because the intermediate object on which we are setting values always behaves as a copy.\n",
      "\n",
      "For example, when doing 'df[col].method(value, inplace=True)', try using 'df.method({col: value}, inplace=True)' or df[col] = df[col].method(value) instead, to perform the operation inplace on the original object.\n",
      "\n",
      "\n",
      "  df['Amount_spent'].replace(np.nan,df['Amount_spent'].mean(),inplace=True)\n"
     ]
    }
   ],
   "source": [
    "df['Amount_spent'].replace(np.nan,df['Amount_spent'].mean(),inplace=True)"
   ]
  },
  {
   "cell_type": "code",
   "execution_count": 18,
   "id": "1b6de1e7-5ae2-46c0-a63d-00832fae64d4",
   "metadata": {},
   "outputs": [
    {
     "data": {
      "text/plain": [
       "Transaction_date    0\n",
       "Transaction_ID      0\n",
       "Gender              0\n",
       "Age                 0\n",
       "Marital_status      0\n",
       "State_names         0\n",
       "Segment             0\n",
       "Employees_status    0\n",
       "Payment_method      0\n",
       "Referal             0\n",
       "Amount_spent        0\n",
       "dtype: int64"
      ]
     },
     "execution_count": 18,
     "metadata": {},
     "output_type": "execute_result"
    }
   ],
   "source": [
    "df.isnull().sum()"
   ]
  },
  {
   "cell_type": "code",
   "execution_count": 22,
   "id": "35846937-45ad-43e0-9e5c-514aa959c3de",
   "metadata": {},
   "outputs": [
    {
     "data": {
      "text/plain": [
       "<pandas.core.groupby.generic.DataFrameGroupBy object at 0x0000027F99506F00>"
      ]
     },
     "execution_count": 22,
     "metadata": {},
     "output_type": "execute_result"
    }
   ],
   "source": [
    "group = df.groupby('Payment_method')\n",
    "group"
   ]
  },
  {
   "cell_type": "code",
   "execution_count": 24,
   "id": "fa56ac23-ee75-4a76-a5d6-3d490775c709",
   "metadata": {},
   "outputs": [
    {
     "data": {
      "text/html": [
       "<div>\n",
       "<style scoped>\n",
       "    .dataframe tbody tr th:only-of-type {\n",
       "        vertical-align: middle;\n",
       "    }\n",
       "\n",
       "    .dataframe tbody tr th {\n",
       "        vertical-align: top;\n",
       "    }\n",
       "\n",
       "    .dataframe thead th {\n",
       "        text-align: right;\n",
       "    }\n",
       "</style>\n",
       "<table border=\"1\" class=\"dataframe\">\n",
       "  <thead>\n",
       "    <tr style=\"text-align: right;\">\n",
       "      <th></th>\n",
       "      <th>Transaction_date</th>\n",
       "      <th>Transaction_ID</th>\n",
       "      <th>Gender</th>\n",
       "      <th>Age</th>\n",
       "      <th>Marital_status</th>\n",
       "      <th>State_names</th>\n",
       "      <th>Segment</th>\n",
       "      <th>Employees_status</th>\n",
       "      <th>Payment_method</th>\n",
       "      <th>Referal</th>\n",
       "      <th>Amount_spent</th>\n",
       "    </tr>\n",
       "  </thead>\n",
       "  <tbody>\n",
       "    <tr>\n",
       "      <th>1</th>\n",
       "      <td>1/1/2019</td>\n",
       "      <td>151201</td>\n",
       "      <td>Male</td>\n",
       "      <td>49.0</td>\n",
       "      <td>Single</td>\n",
       "      <td>Illinois</td>\n",
       "      <td>Basic</td>\n",
       "      <td>self-employed</td>\n",
       "      <td>Card</td>\n",
       "      <td>0.0</td>\n",
       "      <td>544.040000</td>\n",
       "    </tr>\n",
       "    <tr>\n",
       "      <th>3</th>\n",
       "      <td>1/1/2019</td>\n",
       "      <td>151203</td>\n",
       "      <td>Female</td>\n",
       "      <td>18.0</td>\n",
       "      <td>Single</td>\n",
       "      <td>Virginia</td>\n",
       "      <td>Platinum</td>\n",
       "      <td>workers</td>\n",
       "      <td>Card</td>\n",
       "      <td>1.0</td>\n",
       "      <td>1199.790000</td>\n",
       "    </tr>\n",
       "    <tr>\n",
       "      <th>4</th>\n",
       "      <td>1/1/2019</td>\n",
       "      <td>151204</td>\n",
       "      <td>Male</td>\n",
       "      <td>27.0</td>\n",
       "      <td>Single</td>\n",
       "      <td>Connecticut</td>\n",
       "      <td>Basic</td>\n",
       "      <td>self-employed</td>\n",
       "      <td>Card</td>\n",
       "      <td>0.0</td>\n",
       "      <td>1418.422577</td>\n",
       "    </tr>\n",
       "    <tr>\n",
       "      <th>8</th>\n",
       "      <td>1/4/2019</td>\n",
       "      <td>151208</td>\n",
       "      <td>Male</td>\n",
       "      <td>75.0</td>\n",
       "      <td>Married</td>\n",
       "      <td>Florida</td>\n",
       "      <td>Silver</td>\n",
       "      <td>Employees</td>\n",
       "      <td>Card</td>\n",
       "      <td>0.0</td>\n",
       "      <td>1046.200000</td>\n",
       "    </tr>\n",
       "    <tr>\n",
       "      <th>9</th>\n",
       "      <td>1/4/2019</td>\n",
       "      <td>151209</td>\n",
       "      <td>Female</td>\n",
       "      <td>41.0</td>\n",
       "      <td>Married</td>\n",
       "      <td>Vermont</td>\n",
       "      <td>Gold</td>\n",
       "      <td>Unemployment</td>\n",
       "      <td>Card</td>\n",
       "      <td>1.0</td>\n",
       "      <td>2730.600000</td>\n",
       "    </tr>\n",
       "    <tr>\n",
       "      <th>...</th>\n",
       "      <td>...</td>\n",
       "      <td>...</td>\n",
       "      <td>...</td>\n",
       "      <td>...</td>\n",
       "      <td>...</td>\n",
       "      <td>...</td>\n",
       "      <td>...</td>\n",
       "      <td>...</td>\n",
       "      <td>...</td>\n",
       "      <td>...</td>\n",
       "      <td>...</td>\n",
       "    </tr>\n",
       "    <tr>\n",
       "      <th>2497</th>\n",
       "      <td>4/28/2021</td>\n",
       "      <td>153685</td>\n",
       "      <td>Female</td>\n",
       "      <td>72.0</td>\n",
       "      <td>Married</td>\n",
       "      <td>South Carolina</td>\n",
       "      <td>Basic</td>\n",
       "      <td>Employees</td>\n",
       "      <td>Card</td>\n",
       "      <td>0.0</td>\n",
       "      <td>982.080000</td>\n",
       "    </tr>\n",
       "    <tr>\n",
       "      <th>2499</th>\n",
       "      <td>4/28/2021</td>\n",
       "      <td>153687</td>\n",
       "      <td>Male</td>\n",
       "      <td>33.0</td>\n",
       "      <td>Married</td>\n",
       "      <td>California</td>\n",
       "      <td>Silver</td>\n",
       "      <td>Employees</td>\n",
       "      <td>Card</td>\n",
       "      <td>1.0</td>\n",
       "      <td>2482.850000</td>\n",
       "    </tr>\n",
       "    <tr>\n",
       "      <th>2501</th>\n",
       "      <td>4/29/2021</td>\n",
       "      <td>153689</td>\n",
       "      <td>Female</td>\n",
       "      <td>65.0</td>\n",
       "      <td>Single</td>\n",
       "      <td>Nevada</td>\n",
       "      <td>Silver</td>\n",
       "      <td>Unemployment</td>\n",
       "      <td>Card</td>\n",
       "      <td>1.0</td>\n",
       "      <td>1418.422577</td>\n",
       "    </tr>\n",
       "    <tr>\n",
       "      <th>2505</th>\n",
       "      <td>4/30/2021</td>\n",
       "      <td>153693</td>\n",
       "      <td>Male</td>\n",
       "      <td>54.0</td>\n",
       "      <td>Married</td>\n",
       "      <td>Alabama</td>\n",
       "      <td>Basic</td>\n",
       "      <td>Employees</td>\n",
       "      <td>Card</td>\n",
       "      <td>0.0</td>\n",
       "      <td>266.610000</td>\n",
       "    </tr>\n",
       "    <tr>\n",
       "      <th>2507</th>\n",
       "      <td>5/1/2021</td>\n",
       "      <td>153695</td>\n",
       "      <td>Female</td>\n",
       "      <td>57.0</td>\n",
       "      <td>Single</td>\n",
       "      <td>South Carolina</td>\n",
       "      <td>Platinum</td>\n",
       "      <td>self-employed</td>\n",
       "      <td>Card</td>\n",
       "      <td>0.0</td>\n",
       "      <td>150.100000</td>\n",
       "    </tr>\n",
       "  </tbody>\n",
       "</table>\n",
       "<p>749 rows × 11 columns</p>\n",
       "</div>"
      ],
      "text/plain": [
       "     Transaction_date  Transaction_ID  Gender   Age Marital_status  \\\n",
       "1            1/1/2019          151201    Male  49.0         Single   \n",
       "3            1/1/2019          151203  Female  18.0         Single   \n",
       "4            1/1/2019          151204    Male  27.0         Single   \n",
       "8            1/4/2019          151208    Male  75.0        Married   \n",
       "9            1/4/2019          151209  Female  41.0        Married   \n",
       "...               ...             ...     ...   ...            ...   \n",
       "2497        4/28/2021          153685  Female  72.0        Married   \n",
       "2499        4/28/2021          153687    Male  33.0        Married   \n",
       "2501        4/29/2021          153689  Female  65.0         Single   \n",
       "2505        4/30/2021          153693    Male  54.0        Married   \n",
       "2507         5/1/2021          153695  Female  57.0         Single   \n",
       "\n",
       "         State_names   Segment Employees_status Payment_method  Referal  \\\n",
       "1           Illinois     Basic    self-employed           Card      0.0   \n",
       "3           Virginia  Platinum          workers           Card      1.0   \n",
       "4        Connecticut     Basic    self-employed           Card      0.0   \n",
       "8            Florida    Silver        Employees           Card      0.0   \n",
       "9            Vermont      Gold     Unemployment           Card      1.0   \n",
       "...              ...       ...              ...            ...      ...   \n",
       "2497  South Carolina     Basic        Employees           Card      0.0   \n",
       "2499      California    Silver        Employees           Card      1.0   \n",
       "2501          Nevada    Silver     Unemployment           Card      1.0   \n",
       "2505         Alabama     Basic        Employees           Card      0.0   \n",
       "2507  South Carolina  Platinum    self-employed           Card      0.0   \n",
       "\n",
       "      Amount_spent  \n",
       "1       544.040000  \n",
       "3      1199.790000  \n",
       "4      1418.422577  \n",
       "8      1046.200000  \n",
       "9      2730.600000  \n",
       "...            ...  \n",
       "2497    982.080000  \n",
       "2499   2482.850000  \n",
       "2501   1418.422577  \n",
       "2505    266.610000  \n",
       "2507    150.100000  \n",
       "\n",
       "[749 rows x 11 columns]"
      ]
     },
     "execution_count": 24,
     "metadata": {},
     "output_type": "execute_result"
    }
   ],
   "source": [
    "sub_grp = group.get_group('Card')\n",
    "sub_grp"
   ]
  },
  {
   "cell_type": "code",
   "execution_count": 31,
   "id": "666085ef-a969-44f4-b2a2-60eb85814977",
   "metadata": {},
   "outputs": [
    {
     "data": {
      "text/html": [
       "<div>\n",
       "<style scoped>\n",
       "    .dataframe tbody tr th:only-of-type {\n",
       "        vertical-align: middle;\n",
       "    }\n",
       "\n",
       "    .dataframe tbody tr th {\n",
       "        vertical-align: top;\n",
       "    }\n",
       "\n",
       "    .dataframe thead th {\n",
       "        text-align: right;\n",
       "    }\n",
       "</style>\n",
       "<table border=\"1\" class=\"dataframe\">\n",
       "  <thead>\n",
       "    <tr style=\"text-align: right;\">\n",
       "      <th></th>\n",
       "      <th>mean</th>\n",
       "      <th>median</th>\n",
       "      <th>sum</th>\n",
       "      <th>min</th>\n",
       "      <th>max</th>\n",
       "      <th>count</th>\n",
       "    </tr>\n",
       "    <tr>\n",
       "      <th>Payment_method</th>\n",
       "      <th></th>\n",
       "      <th></th>\n",
       "      <th></th>\n",
       "      <th></th>\n",
       "      <th></th>\n",
       "      <th></th>\n",
       "    </tr>\n",
       "  </thead>\n",
       "  <tbody>\n",
       "    <tr>\n",
       "      <th>Card</th>\n",
       "      <td>46.119579</td>\n",
       "      <td>46.0</td>\n",
       "      <td>34543.564777</td>\n",
       "      <td>15.0</td>\n",
       "      <td>78.0</td>\n",
       "      <td>749</td>\n",
       "    </tr>\n",
       "    <tr>\n",
       "      <th>Other</th>\n",
       "      <td>47.444477</td>\n",
       "      <td>48.0</td>\n",
       "      <td>28229.463563</td>\n",
       "      <td>15.0</td>\n",
       "      <td>78.0</td>\n",
       "      <td>595</td>\n",
       "    </tr>\n",
       "    <tr>\n",
       "      <th>PayPal</th>\n",
       "      <td>46.558864</td>\n",
       "      <td>47.0</td>\n",
       "      <td>54380.753036</td>\n",
       "      <td>15.0</td>\n",
       "      <td>78.0</td>\n",
       "      <td>1168</td>\n",
       "    </tr>\n",
       "  </tbody>\n",
       "</table>\n",
       "</div>"
      ],
      "text/plain": [
       "                     mean  median           sum   min   max  count\n",
       "Payment_method                                                    \n",
       "Card            46.119579    46.0  34543.564777  15.0  78.0    749\n",
       "Other           47.444477    48.0  28229.463563  15.0  78.0    595\n",
       "PayPal          46.558864    47.0  54380.753036  15.0  78.0   1168"
      ]
     },
     "execution_count": 31,
     "metadata": {},
     "output_type": "execute_result"
    }
   ],
   "source": [
    "group['Age'].agg(['mean','median','sum','min','max','count'])"
   ]
  },
  {
   "cell_type": "code",
   "execution_count": 33,
   "id": "843715d8-e73c-4f56-8786-2aee68c74537",
   "metadata": {},
   "outputs": [
    {
     "data": {
      "text/plain": [
       "Payment_method\n",
       "Card      46.119579\n",
       "Other     47.444477\n",
       "PayPal    46.558864\n",
       "Name: Age, dtype: float64"
      ]
     },
     "execution_count": 33,
     "metadata": {},
     "output_type": "execute_result"
    }
   ],
   "source": [
    "age_mean = group['Age'].mean()\n",
    "age_mean"
   ]
  },
  {
   "cell_type": "code",
   "execution_count": 34,
   "id": "0a5aa430-85f0-479a-878c-2f5f0c30fd81",
   "metadata": {},
   "outputs": [
    {
     "data": {
      "text/plain": [
       "46.11957914195986"
      ]
     },
     "execution_count": 34,
     "metadata": {},
     "output_type": "execute_result"
    }
   ],
   "source": [
    "card_mean = age_mean['Card'].mean()\n",
    "card_mean"
   ]
  },
  {
   "cell_type": "code",
   "execution_count": 35,
   "id": "6e4f0910-4bb4-46dd-bc3a-3770d8d39421",
   "metadata": {},
   "outputs": [
    {
     "name": "stderr",
     "output_type": "stream",
     "text": [
      "C:\\Users\\PUSHKAR\\AppData\\Local\\Temp\\ipykernel_28392\\1426904731.py:1: FutureWarning: The provided callable <built-in function sum> is currently using Series.sum. In a future version of pandas, the provided callable will be used directly. To keep current behavior pass the string \"sum\" instead.\n",
      "  sub_grp.agg([sum,max,min])\n",
      "C:\\Users\\PUSHKAR\\AppData\\Local\\Temp\\ipykernel_28392\\1426904731.py:1: FutureWarning: The provided callable <built-in function max> is currently using Series.max. In a future version of pandas, the provided callable will be used directly. To keep current behavior pass the string \"max\" instead.\n",
      "  sub_grp.agg([sum,max,min])\n",
      "C:\\Users\\PUSHKAR\\AppData\\Local\\Temp\\ipykernel_28392\\1426904731.py:1: FutureWarning: The provided callable <built-in function min> is currently using Series.min. In a future version of pandas, the provided callable will be used directly. To keep current behavior pass the string \"min\" instead.\n",
      "  sub_grp.agg([sum,max,min])\n"
     ]
    },
    {
     "data": {
      "text/html": [
       "<div>\n",
       "<style scoped>\n",
       "    .dataframe tbody tr th:only-of-type {\n",
       "        vertical-align: middle;\n",
       "    }\n",
       "\n",
       "    .dataframe tbody tr th {\n",
       "        vertical-align: top;\n",
       "    }\n",
       "\n",
       "    .dataframe thead th {\n",
       "        text-align: right;\n",
       "    }\n",
       "</style>\n",
       "<table border=\"1\" class=\"dataframe\">\n",
       "  <thead>\n",
       "    <tr style=\"text-align: right;\">\n",
       "      <th></th>\n",
       "      <th>Transaction_date</th>\n",
       "      <th>Transaction_ID</th>\n",
       "      <th>Gender</th>\n",
       "      <th>Age</th>\n",
       "      <th>Marital_status</th>\n",
       "      <th>State_names</th>\n",
       "      <th>Segment</th>\n",
       "      <th>Employees_status</th>\n",
       "      <th>Payment_method</th>\n",
       "      <th>Referal</th>\n",
       "      <th>Amount_spent</th>\n",
       "    </tr>\n",
       "  </thead>\n",
       "  <tbody>\n",
       "    <tr>\n",
       "      <th>sum</th>\n",
       "      <td>1/1/20191/1/20191/1/20191/4/20191/4/20191/5/20...</td>\n",
       "      <td>114193811</td>\n",
       "      <td>MaleFemaleMaleMaleFemaleFemaleFemaleFemaleFema...</td>\n",
       "      <td>34543.564777</td>\n",
       "      <td>SingleSingleSingleMarriedMarriedMarriedMarried...</td>\n",
       "      <td>IllinoisVirginiaConnecticutFloridaVermontIowaN...</td>\n",
       "      <td>BasicPlatinumBasicSilverGoldBasicPlatinumBasic...</td>\n",
       "      <td>self-employedworkersself-employedEmployeesUnem...</td>\n",
       "      <td>CardCardCardCardCardCardCardCardCardCardCardCa...</td>\n",
       "      <td>489.0</td>\n",
       "      <td>1.046943e+06</td>\n",
       "    </tr>\n",
       "    <tr>\n",
       "      <th>max</th>\n",
       "      <td>9/9/2020</td>\n",
       "      <td>153695</td>\n",
       "      <td>Male</td>\n",
       "      <td>78.000000</td>\n",
       "      <td>Single</td>\n",
       "      <td>Wyoming</td>\n",
       "      <td>Silver</td>\n",
       "      <td>workers</td>\n",
       "      <td>Card</td>\n",
       "      <td>1.0</td>\n",
       "      <td>2.999980e+03</td>\n",
       "    </tr>\n",
       "    <tr>\n",
       "      <th>min</th>\n",
       "      <td>1/1/2019</td>\n",
       "      <td>151201</td>\n",
       "      <td>Female</td>\n",
       "      <td>15.000000</td>\n",
       "      <td>Married</td>\n",
       "      <td>Alabama</td>\n",
       "      <td>Basic</td>\n",
       "      <td>Employees</td>\n",
       "      <td>Card</td>\n",
       "      <td>0.0</td>\n",
       "      <td>3.018000e+01</td>\n",
       "    </tr>\n",
       "  </tbody>\n",
       "</table>\n",
       "</div>"
      ],
      "text/plain": [
       "                                      Transaction_date  Transaction_ID  \\\n",
       "sum  1/1/20191/1/20191/1/20191/4/20191/4/20191/5/20...       114193811   \n",
       "max                                           9/9/2020          153695   \n",
       "min                                           1/1/2019          151201   \n",
       "\n",
       "                                                Gender           Age  \\\n",
       "sum  MaleFemaleMaleMaleFemaleFemaleFemaleFemaleFema...  34543.564777   \n",
       "max                                               Male     78.000000   \n",
       "min                                             Female     15.000000   \n",
       "\n",
       "                                        Marital_status  \\\n",
       "sum  SingleSingleSingleMarriedMarriedMarriedMarried...   \n",
       "max                                             Single   \n",
       "min                                            Married   \n",
       "\n",
       "                                           State_names  \\\n",
       "sum  IllinoisVirginiaConnecticutFloridaVermontIowaN...   \n",
       "max                                            Wyoming   \n",
       "min                                            Alabama   \n",
       "\n",
       "                                               Segment  \\\n",
       "sum  BasicPlatinumBasicSilverGoldBasicPlatinumBasic...   \n",
       "max                                             Silver   \n",
       "min                                              Basic   \n",
       "\n",
       "                                      Employees_status  \\\n",
       "sum  self-employedworkersself-employedEmployeesUnem...   \n",
       "max                                            workers   \n",
       "min                                          Employees   \n",
       "\n",
       "                                        Payment_method  Referal  Amount_spent  \n",
       "sum  CardCardCardCardCardCardCardCardCardCardCardCa...    489.0  1.046943e+06  \n",
       "max                                               Card      1.0  2.999980e+03  \n",
       "min                                               Card      0.0  3.018000e+01  "
      ]
     },
     "execution_count": 35,
     "metadata": {},
     "output_type": "execute_result"
    }
   ],
   "source": []
  },
  {
   "cell_type": "code",
   "execution_count": 40,
   "id": "17c4d9e2-3d73-493e-b9b3-fd09f317090d",
   "metadata": {},
   "outputs": [],
   "source": [
    "min_value = df['Amount_spent'].min()\n",
    "max_value = df['Amount_spent'].max()"
   ]
  },
  {
   "cell_type": "code",
   "execution_count": 41,
   "id": "6e9de44f-4b2e-49ad-bcdb-72b9e705ea85",
   "metadata": {},
   "outputs": [
    {
     "data": {
      "text/plain": [
       "2.09"
      ]
     },
     "execution_count": 41,
     "metadata": {},
     "output_type": "execute_result"
    }
   ],
   "source": [
    "min_value"
   ]
  },
  {
   "cell_type": "code",
   "execution_count": 42,
   "id": "319616b1-7122-4e4f-8e6c-1e0af2116109",
   "metadata": {},
   "outputs": [
    {
     "data": {
      "text/plain": [
       "2999.98"
      ]
     },
     "execution_count": 42,
     "metadata": {},
     "output_type": "execute_result"
    }
   ],
   "source": [
    "max_value"
   ]
  },
  {
   "cell_type": "code",
   "execution_count": 43,
   "id": "6ad30699-0a5c-4ed3-b913-2d624bd131f8",
   "metadata": {},
   "outputs": [],
   "source": [
    "labels = ['small','medium','big']"
   ]
  },
  {
   "cell_type": "code",
   "execution_count": 44,
   "id": "84ae6a9d-b4a1-42c0-b04f-4bd607131026",
   "metadata": {},
   "outputs": [
    {
     "data": {
      "text/plain": [
       "array([2.0900000e+00, 7.5156250e+02, 1.5010350e+03, 2.2505075e+03,\n",
       "       2.9999800e+03])"
      ]
     },
     "execution_count": 44,
     "metadata": {},
     "output_type": "execute_result"
    }
   ],
   "source": [
    "bins = np.linspace(min_value,max_value,5)\n",
    "bins"
   ]
  },
  {
   "cell_type": "code",
   "execution_count": 45,
   "id": "fb8e9857-0e65-4c58-9069-f0039d442544",
   "metadata": {},
   "outputs": [],
   "source": [
    "df['bins'] = pd.cut(df['Amount_spent'],bins=bins,include_lowest=True)"
   ]
  },
  {
   "cell_type": "code",
   "execution_count": 47,
   "id": "99006d0e-0875-4ae8-8319-c2b2c3b869a7",
   "metadata": {},
   "outputs": [],
   "source": [
    "df['bins_qcut'] = pd.qcut(df['Amount_spent'],labels=labels,q=3,precision=1)"
   ]
  },
  {
   "cell_type": "code",
   "execution_count": 48,
   "id": "655ec539-9939-41dd-8e50-e34dd778d96a",
   "metadata": {},
   "outputs": [
    {
     "data": {
      "text/html": [
       "<div>\n",
       "<style scoped>\n",
       "    .dataframe tbody tr th:only-of-type {\n",
       "        vertical-align: middle;\n",
       "    }\n",
       "\n",
       "    .dataframe tbody tr th {\n",
       "        vertical-align: top;\n",
       "    }\n",
       "\n",
       "    .dataframe thead th {\n",
       "        text-align: right;\n",
       "    }\n",
       "</style>\n",
       "<table border=\"1\" class=\"dataframe\">\n",
       "  <thead>\n",
       "    <tr style=\"text-align: right;\">\n",
       "      <th></th>\n",
       "      <th>Transaction_date</th>\n",
       "      <th>Transaction_ID</th>\n",
       "      <th>Gender</th>\n",
       "      <th>Age</th>\n",
       "      <th>Marital_status</th>\n",
       "      <th>State_names</th>\n",
       "      <th>Segment</th>\n",
       "      <th>Employees_status</th>\n",
       "      <th>Payment_method</th>\n",
       "      <th>Referal</th>\n",
       "      <th>Amount_spent</th>\n",
       "      <th>bins</th>\n",
       "      <th>bins_qcut</th>\n",
       "    </tr>\n",
       "  </thead>\n",
       "  <tbody>\n",
       "    <tr>\n",
       "      <th>0</th>\n",
       "      <td>1/1/2019</td>\n",
       "      <td>151200</td>\n",
       "      <td>Female</td>\n",
       "      <td>19.0</td>\n",
       "      <td>Single</td>\n",
       "      <td>Kansas</td>\n",
       "      <td>Basic</td>\n",
       "      <td>Unemployment</td>\n",
       "      <td>Other</td>\n",
       "      <td>1.0</td>\n",
       "      <td>2051.360000</td>\n",
       "      <td>(1501.035, 2250.508]</td>\n",
       "      <td>big</td>\n",
       "    </tr>\n",
       "    <tr>\n",
       "      <th>1</th>\n",
       "      <td>1/1/2019</td>\n",
       "      <td>151201</td>\n",
       "      <td>Male</td>\n",
       "      <td>49.0</td>\n",
       "      <td>Single</td>\n",
       "      <td>Illinois</td>\n",
       "      <td>Basic</td>\n",
       "      <td>self-employed</td>\n",
       "      <td>Card</td>\n",
       "      <td>0.0</td>\n",
       "      <td>544.040000</td>\n",
       "      <td>(2.089, 751.562]</td>\n",
       "      <td>small</td>\n",
       "    </tr>\n",
       "    <tr>\n",
       "      <th>2</th>\n",
       "      <td>1/1/2019</td>\n",
       "      <td>151202</td>\n",
       "      <td>Male</td>\n",
       "      <td>63.0</td>\n",
       "      <td>Married</td>\n",
       "      <td>New Mexico</td>\n",
       "      <td>Basic</td>\n",
       "      <td>workers</td>\n",
       "      <td>PayPal</td>\n",
       "      <td>1.0</td>\n",
       "      <td>1572.600000</td>\n",
       "      <td>(1501.035, 2250.508]</td>\n",
       "      <td>medium</td>\n",
       "    </tr>\n",
       "    <tr>\n",
       "      <th>3</th>\n",
       "      <td>1/1/2019</td>\n",
       "      <td>151203</td>\n",
       "      <td>Female</td>\n",
       "      <td>18.0</td>\n",
       "      <td>Single</td>\n",
       "      <td>Virginia</td>\n",
       "      <td>Platinum</td>\n",
       "      <td>workers</td>\n",
       "      <td>Card</td>\n",
       "      <td>1.0</td>\n",
       "      <td>1199.790000</td>\n",
       "      <td>(751.562, 1501.035]</td>\n",
       "      <td>medium</td>\n",
       "    </tr>\n",
       "    <tr>\n",
       "      <th>4</th>\n",
       "      <td>1/1/2019</td>\n",
       "      <td>151204</td>\n",
       "      <td>Male</td>\n",
       "      <td>27.0</td>\n",
       "      <td>Single</td>\n",
       "      <td>Connecticut</td>\n",
       "      <td>Basic</td>\n",
       "      <td>self-employed</td>\n",
       "      <td>Card</td>\n",
       "      <td>0.0</td>\n",
       "      <td>1418.422577</td>\n",
       "      <td>(751.562, 1501.035]</td>\n",
       "      <td>medium</td>\n",
       "    </tr>\n",
       "    <tr>\n",
       "      <th>...</th>\n",
       "      <td>...</td>\n",
       "      <td>...</td>\n",
       "      <td>...</td>\n",
       "      <td>...</td>\n",
       "      <td>...</td>\n",
       "      <td>...</td>\n",
       "      <td>...</td>\n",
       "      <td>...</td>\n",
       "      <td>...</td>\n",
       "      <td>...</td>\n",
       "      <td>...</td>\n",
       "      <td>...</td>\n",
       "      <td>...</td>\n",
       "    </tr>\n",
       "    <tr>\n",
       "      <th>2507</th>\n",
       "      <td>5/1/2021</td>\n",
       "      <td>153695</td>\n",
       "      <td>Female</td>\n",
       "      <td>57.0</td>\n",
       "      <td>Single</td>\n",
       "      <td>South Carolina</td>\n",
       "      <td>Platinum</td>\n",
       "      <td>self-employed</td>\n",
       "      <td>Card</td>\n",
       "      <td>0.0</td>\n",
       "      <td>150.100000</td>\n",
       "      <td>(2.089, 751.562]</td>\n",
       "      <td>small</td>\n",
       "    </tr>\n",
       "    <tr>\n",
       "      <th>2508</th>\n",
       "      <td>5/1/2021</td>\n",
       "      <td>153696</td>\n",
       "      <td>Female</td>\n",
       "      <td>36.0</td>\n",
       "      <td>Married</td>\n",
       "      <td>Hawaii</td>\n",
       "      <td>Silver</td>\n",
       "      <td>self-employed</td>\n",
       "      <td>PayPal</td>\n",
       "      <td>1.0</td>\n",
       "      <td>708.880000</td>\n",
       "      <td>(2.089, 751.562]</td>\n",
       "      <td>small</td>\n",
       "    </tr>\n",
       "    <tr>\n",
       "      <th>2509</th>\n",
       "      <td>5/1/2021</td>\n",
       "      <td>153697</td>\n",
       "      <td>Male</td>\n",
       "      <td>22.0</td>\n",
       "      <td>Single</td>\n",
       "      <td>South Carolina</td>\n",
       "      <td>Basic</td>\n",
       "      <td>workers</td>\n",
       "      <td>PayPal</td>\n",
       "      <td>1.0</td>\n",
       "      <td>2030.070000</td>\n",
       "      <td>(1501.035, 2250.508]</td>\n",
       "      <td>big</td>\n",
       "    </tr>\n",
       "    <tr>\n",
       "      <th>2510</th>\n",
       "      <td>5/1/2021</td>\n",
       "      <td>153698</td>\n",
       "      <td>Female</td>\n",
       "      <td>44.0</td>\n",
       "      <td>Single</td>\n",
       "      <td>New York</td>\n",
       "      <td>Basic</td>\n",
       "      <td>Employees</td>\n",
       "      <td>PayPal</td>\n",
       "      <td>0.0</td>\n",
       "      <td>1909.770000</td>\n",
       "      <td>(1501.035, 2250.508]</td>\n",
       "      <td>big</td>\n",
       "    </tr>\n",
       "    <tr>\n",
       "      <th>2511</th>\n",
       "      <td>5/1/2021</td>\n",
       "      <td>153699</td>\n",
       "      <td>Male</td>\n",
       "      <td>48.0</td>\n",
       "      <td>Single</td>\n",
       "      <td>California</td>\n",
       "      <td>Silver</td>\n",
       "      <td>workers</td>\n",
       "      <td>PayPal</td>\n",
       "      <td>1.0</td>\n",
       "      <td>1073.150000</td>\n",
       "      <td>(751.562, 1501.035]</td>\n",
       "      <td>medium</td>\n",
       "    </tr>\n",
       "  </tbody>\n",
       "</table>\n",
       "<p>2512 rows × 13 columns</p>\n",
       "</div>"
      ],
      "text/plain": [
       "     Transaction_date  Transaction_ID  Gender   Age Marital_status  \\\n",
       "0            1/1/2019          151200  Female  19.0         Single   \n",
       "1            1/1/2019          151201    Male  49.0         Single   \n",
       "2            1/1/2019          151202    Male  63.0        Married   \n",
       "3            1/1/2019          151203  Female  18.0         Single   \n",
       "4            1/1/2019          151204    Male  27.0         Single   \n",
       "...               ...             ...     ...   ...            ...   \n",
       "2507         5/1/2021          153695  Female  57.0         Single   \n",
       "2508         5/1/2021          153696  Female  36.0        Married   \n",
       "2509         5/1/2021          153697    Male  22.0         Single   \n",
       "2510         5/1/2021          153698  Female  44.0         Single   \n",
       "2511         5/1/2021          153699    Male  48.0         Single   \n",
       "\n",
       "         State_names   Segment Employees_status Payment_method  Referal  \\\n",
       "0             Kansas     Basic     Unemployment          Other      1.0   \n",
       "1           Illinois     Basic    self-employed           Card      0.0   \n",
       "2         New Mexico     Basic          workers         PayPal      1.0   \n",
       "3           Virginia  Platinum          workers           Card      1.0   \n",
       "4        Connecticut     Basic    self-employed           Card      0.0   \n",
       "...              ...       ...              ...            ...      ...   \n",
       "2507  South Carolina  Platinum    self-employed           Card      0.0   \n",
       "2508          Hawaii    Silver    self-employed         PayPal      1.0   \n",
       "2509  South Carolina     Basic          workers         PayPal      1.0   \n",
       "2510        New York     Basic        Employees         PayPal      0.0   \n",
       "2511      California    Silver          workers         PayPal      1.0   \n",
       "\n",
       "      Amount_spent                  bins bins_qcut  \n",
       "0      2051.360000  (1501.035, 2250.508]       big  \n",
       "1       544.040000      (2.089, 751.562]     small  \n",
       "2      1572.600000  (1501.035, 2250.508]    medium  \n",
       "3      1199.790000   (751.562, 1501.035]    medium  \n",
       "4      1418.422577   (751.562, 1501.035]    medium  \n",
       "...            ...                   ...       ...  \n",
       "2507    150.100000      (2.089, 751.562]     small  \n",
       "2508    708.880000      (2.089, 751.562]     small  \n",
       "2509   2030.070000  (1501.035, 2250.508]       big  \n",
       "2510   1909.770000  (1501.035, 2250.508]       big  \n",
       "2511   1073.150000   (751.562, 1501.035]    medium  \n",
       "\n",
       "[2512 rows x 13 columns]"
      ]
     },
     "execution_count": 48,
     "metadata": {},
     "output_type": "execute_result"
    }
   ],
   "source": [
    "df"
   ]
  },
  {
   "cell_type": "code",
   "execution_count": null,
   "id": "3632d145-aff3-4b60-af07-cebfdfa1e1ef",
   "metadata": {},
   "outputs": [],
   "source": []
  }
 ],
 "metadata": {
  "kernelspec": {
   "display_name": "Python 3 (ipykernel)",
   "language": "python",
   "name": "python3"
  },
  "language_info": {
   "codemirror_mode": {
    "name": "ipython",
    "version": 3
   },
   "file_extension": ".py",
   "mimetype": "text/x-python",
   "name": "python",
   "nbconvert_exporter": "python",
   "pygments_lexer": "ipython3",
   "version": "3.12.3"
  }
 },
 "nbformat": 4,
 "nbformat_minor": 5
}
